{
  "nbformat": 4,
  "nbformat_minor": 0,
  "metadata": {
    "colab": {
      "name": "shapeDetection.ipynb",
      "provenance": []
    },
    "kernelspec": {
      "name": "python3",
      "display_name": "Python 3"
    },
    "accelerator": "GPU"
  },
  "cells": [
    {
      "cell_type": "code",
      "metadata": {
        "id": "yD017bAhdOxH",
        "colab_type": "code",
        "colab": {}
      },
      "source": [
        "import numpy as np\n",
        "import matplotlib.pyplot as plt\n",
        "import matplotlib\n",
        "%matplotlib inline"
      ],
      "execution_count": 0,
      "outputs": []
    },
    {
      "cell_type": "code",
      "metadata": {
        "id": "DAEn-VTbdQqL",
        "colab_type": "code",
        "colab": {}
      },
      "source": [
        "num_imgs = 50000\n",
        "\n",
        "img_size = 8\n",
        "min_object_size = 1\n",
        "max_object_size = 4\n",
        "num_objects = 1\n",
        "\n",
        "bboxes =  np.zeros((num_imgs, num_objects, 4))\n",
        "imgs = np.zeros((num_imgs, img_size, img_size))"
      ],
      "execution_count": 0,
      "outputs": []
    },
    {
      "cell_type": "code",
      "metadata": {
        "id": "std9xilQdSj_",
        "colab_type": "code",
        "colab": {
          "base_uri": "https://localhost:8080/",
          "height": 34
        },
        "outputId": "757cb0cc-43fc-45e4-a3d7-7330d034c8dd"
      },
      "source": [
        "for i_img in range(num_imgs):\n",
        "    for i_object in range(num_objects):\n",
        "        w, h = np.random.randint(min_object_size, max_object_size, size=2)\n",
        "        x = np.random.randint(0, img_size - w)\n",
        "        y = np.random.randint(0, img_size - h)\n",
        "        imgs[i_img, x:x+w, y:y+h] = 1.  # set rectangle to 1\n",
        "        bboxes[i_img, i_object] = [x, y, w, h]\n",
        "imgs.shape, bboxes.shape"
      ],
      "execution_count": 3,
      "outputs": [
        {
          "output_type": "execute_result",
          "data": {
            "text/plain": [
              "((50000, 8, 8), (50000, 1, 4))"
            ]
          },
          "metadata": {
            "tags": []
          },
          "execution_count": 3
        }
      ]
    },
    {
      "cell_type": "code",
      "metadata": {
        "id": "-nplPpjQdT1I",
        "colab_type": "code",
        "colab": {
          "base_uri": "https://localhost:8080/",
          "height": 269
        },
        "outputId": "bf697463-6389-4d98-ee51-963ede00f5ae"
      },
      "source": [
        "i = 0\n",
        "plt.imshow(imgs[i].T, cmap='Greys', interpolation='none', origin='lower', extent=[0, img_size, 0, img_size])\n",
        "\n",
        "for bbox in bboxes[i]:\n",
        "    plt.gca().add_patch(matplotlib.patches.Rectangle((bbox[0], bbox[1]), bbox[2], bbox[3], ec='r', fc='none'))"
      ],
      "execution_count": 4,
      "outputs": [
        {
          "output_type": "display_data",
          "data": {
            "image/png": "[encoded data removed]",
            "text/plain": [
              "<Figure size 432x288 with 1 Axes>"
            ]
          },
          "metadata": {
            "tags": []
          }
        }
      ]
    },
    {
      "cell_type": "code",
      "metadata": {
        "id": "pVaimZ5SdVeJ",
        "colab_type": "code",
        "colab": {
          "base_uri": "https://localhost:8080/",
          "height": 34
        },
        "outputId": "686fb7be-a22b-4a8d-c0c1-f77ed33ac2cc"
      },
      "source": [
        "X = (imgs.reshape(num_imgs, -1) - np.mean(imgs)) / np.std(imgs)\n",
        "X.shape, np.mean(X), np.std(X)"
      ],
      "execution_count": 5,
      "outputs": [
        {
          "output_type": "execute_result",
          "data": {
            "text/plain": [
              "((50000, 64), 7.182698880114913e-17, 0.9999999999999996)"
            ]
          },
          "metadata": {
            "tags": []
          },
          "execution_count": 5
        }
      ]
    },
    {
      "cell_type": "code",
      "metadata": {
        "id": "8yu85xZldW2N",
        "colab_type": "code",
        "colab": {
          "base_uri": "https://localhost:8080/",
          "height": 34
        },
        "outputId": "f1751354-ba73-4857-8100-da2f589021fb"
      },
      "source": [
        "y = bboxes.reshape(num_imgs, -1) / img_size\n",
        "y.shape, np.mean(y), np.std(y)"
      ],
      "execution_count": 6,
      "outputs": [
        {
          "output_type": "execute_result",
          "data": {
            "text/plain": [
              "((50000, 4), 0.2815525, 0.17535473616001934)"
            ]
          },
          "metadata": {
            "tags": []
          },
          "execution_count": 6
        }
      ]
    },
    {
      "cell_type": "code",
      "metadata": {
        "id": "4hSek3uedY7y",
        "colab_type": "code",
        "colab": {}
      },
      "source": [
        "i = int(0.8 * num_imgs)\n",
        "train_X = X[:i]\n",
        "test_X = X[i:]\n",
        "train_y = y[:i]\n",
        "test_y = y[i:]\n",
        "test_imgs = imgs[i:]\n",
        "test_bboxes = bboxes[i:]"
      ],
      "execution_count": 0,
      "outputs": []
    },
    {
      "cell_type": "code",
      "metadata": {
        "id": "qfgQXxqbdaHv",
        "colab_type": "code",
        "colab": {
          "base_uri": "https://localhost:8080/",
          "height": 330
        },
        "outputId": "067a2488-0f54-4995-94b8-5402ba38251a"
      },
      "source": [
        "from keras.models import Sequential\n",
        "from keras.layers import Dense, Activation, Dropout\n",
        "from keras.optimizers import SGD\n",
        "model = Sequential([\n",
        "        Dense(200, input_dim=X.shape[-1]), \n",
        "        Activation('relu'), \n",
        "        Dropout(0.2), \n",
        "        Dense(y.shape[-1])\n",
        "    ])\n",
        "model.compile('adadelta', 'mse')"
      ],
      "execution_count": 8,
      "outputs": [
        {
          "output_type": "stream",
          "text": [
            "Using TensorFlow backend.\n"
          ],
          "name": "stderr"
        },
        {
          "output_type": "display_data",
          "data": {
            "text/html": [
              "<p style=\"color: red;\">\n",
              "The default version of TensorFlow in Colab will soon switch to TensorFlow 2.x.<br>\n",
              "We recommend you <a href=\"https://www.tensorflow.org/guide/migrate\" target=\"_blank\">upgrade</a> now \n",
              "or ensure your notebook will continue to use TensorFlow 1.x via the <code>%tensorflow_version 1.x</code> magic:\n",
              "<a href=\"https://colab.research.google.com/notebooks/tensorflow_version.ipynb\" target=\"_blank\">more info</a>.</p>\n"
            ],
            "text/plain": [
              "<IPython.core.display.HTML object>"
            ]
          },
          "metadata": {
            "tags": []
          }
        },
        {
          "output_type": "stream",
          "text": [
            "WARNING:tensorflow:From /usr/local/lib/python3.6/dist-packages/keras/backend/tensorflow_backend.py:66: The name tf.get_default_graph is deprecated. Please use tf.compat.v1.get_default_graph instead.\n",
            "\n",
            "WARNING:tensorflow:From /usr/local/lib/python3.6/dist-packages/keras/backend/tensorflow_backend.py:541: The name tf.placeholder is deprecated. Please use tf.compat.v1.placeholder instead.\n",
            "\n",
            "WARNING:tensorflow:From /usr/local/lib/python3.6/dist-packages/keras/backend/tensorflow_backend.py:4432: The name tf.random_uniform is deprecated. Please use tf.random.uniform instead.\n",
            "\n",
            "WARNING:tensorflow:From /usr/local/lib/python3.6/dist-packages/keras/backend/tensorflow_backend.py:148: The name tf.placeholder_with_default is deprecated. Please use tf.compat.v1.placeholder_with_default instead.\n",
            "\n",
            "WARNING:tensorflow:From /usr/local/lib/python3.6/dist-packages/keras/backend/tensorflow_backend.py:3733: calling dropout (from tensorflow.python.ops.nn_ops) with keep_prob is deprecated and will be removed in a future version.\n",
            "Instructions for updating:\n",
            "Please use `rate` instead of `keep_prob`. Rate should be set to `rate = 1 - keep_prob`.\n",
            "WARNING:tensorflow:From /usr/local/lib/python3.6/dist-packages/keras/optimizers.py:793: The name tf.train.Optimizer is deprecated. Please use tf.compat.v1.train.Optimizer instead.\n",
            "\n"
          ],
          "name": "stdout"
        }
      ]
    },
    {
      "cell_type": "code",
      "metadata": {
        "id": "WwR7nX8odbf5",
        "colab_type": "code",
        "colab": {
          "base_uri": "https://localhost:8080/",
          "height": 1000
        },
        "outputId": "0456fcaa-3479-4072-dcd3-604b1e25a55d"
      },
      "source": [
        "model.fit(train_X, train_y, nb_epoch=30, validation_data=(test_X, test_y), verbose=2)\n"
      ],
      "execution_count": 9,
      "outputs": [
        {
          "output_type": "stream",
          "text": [
            "WARNING:tensorflow:From /usr/local/lib/python3.6/dist-packages/keras/backend/tensorflow_backend.py:1033: The name tf.assign_add is deprecated. Please use tf.compat.v1.assign_add instead.\n",
            "\n",
            "WARNING:tensorflow:From /usr/local/lib/python3.6/dist-packages/keras/backend/tensorflow_backend.py:1020: The name tf.assign is deprecated. Please use tf.compat.v1.assign instead.\n",
            "\n"
          ],
          "name": "stdout"
        },
        {
          "output_type": "stream",
          "text": [
            "/usr/local/lib/python3.6/dist-packages/ipykernel_launcher.py:1: UserWarning: The `nb_epoch` argument in `fit` has been renamed `epochs`.\n",
            "  \"\"\"Entry point for launching an IPython kernel.\n"
          ],
          "name": "stderr"
        },
        {
          "output_type": "stream",
          "text": [
            "WARNING:tensorflow:From /usr/local/lib/python3.6/dist-packages/keras/backend/tensorflow_backend.py:3005: The name tf.Session is deprecated. Please use tf.compat.v1.Session instead.\n",
            "\n",
            "Train on 40000 samples, validate on 10000 samples\n",
            "Epoch 1/30\n",
            "WARNING:tensorflow:From /usr/local/lib/python3.6/dist-packages/keras/backend/tensorflow_backend.py:190: The name tf.get_default_session is deprecated. Please use tf.compat.v1.get_default_session instead.\n",
            "\n",
            "WARNING:tensorflow:From /usr/local/lib/python3.6/dist-packages/keras/backend/tensorflow_backend.py:197: The name tf.ConfigProto is deprecated. Please use tf.compat.v1.ConfigProto instead.\n",
            "\n",
            "WARNING:tensorflow:From /usr/local/lib/python3.6/dist-packages/keras/backend/tensorflow_backend.py:207: The name tf.global_variables is deprecated. Please use tf.compat.v1.global_variables instead.\n",
            "\n",
            "WARNING:tensorflow:From /usr/local/lib/python3.6/dist-packages/keras/backend/tensorflow_backend.py:216: The name tf.is_variable_initialized is deprecated. Please use tf.compat.v1.is_variable_initialized instead.\n",
            "\n",
            "WARNING:tensorflow:From /usr/local/lib/python3.6/dist-packages/keras/backend/tensorflow_backend.py:223: The name tf.variables_initializer is deprecated. Please use tf.compat.v1.variables_initializer instead.\n",
            "\n",
            " - 13s - loss: 0.0252 - val_loss: 7.2105e-04\n",
            "Epoch 2/30\n",
            " - 4s - loss: 0.0018 - val_loss: 2.9160e-04\n",
            "Epoch 3/30\n",
            " - 4s - loss: 0.0013 - val_loss: 2.1343e-04\n",
            "Epoch 4/30\n",
            " - 4s - loss: 0.0011 - val_loss: 1.4291e-04\n",
            "Epoch 5/30\n",
            " - 4s - loss: 0.0010 - val_loss: 1.4195e-04\n",
            "Epoch 6/30\n",
            " - 4s - loss: 9.4597e-04 - val_loss: 1.2132e-04\n",
            "Epoch 7/30\n",
            " - 3s - loss: 9.0330e-04 - val_loss: 1.2536e-04\n",
            "Epoch 8/30\n",
            " - 4s - loss: 8.7191e-04 - val_loss: 1.1418e-04\n",
            "Epoch 9/30\n",
            " - 4s - loss: 8.4794e-04 - val_loss: 1.0392e-04\n",
            "Epoch 10/30\n",
            " - 4s - loss: 8.0465e-04 - val_loss: 7.5146e-05\n",
            "Epoch 11/30\n",
            " - 4s - loss: 7.9633e-04 - val_loss: 1.0301e-04\n",
            "Epoch 12/30\n",
            " - 4s - loss: 7.7319e-04 - val_loss: 1.1988e-04\n",
            "Epoch 13/30\n",
            " - 4s - loss: 7.6422e-04 - val_loss: 7.6932e-05\n",
            "Epoch 14/30\n",
            " - 4s - loss: 7.4782e-04 - val_loss: 6.6750e-05\n",
            "Epoch 15/30\n",
            " - 4s - loss: 7.3905e-04 - val_loss: 7.1636e-05\n",
            "Epoch 16/30\n",
            " - 3s - loss: 7.2280e-04 - val_loss: 5.6941e-05\n",
            "Epoch 17/30\n",
            " - 3s - loss: 7.2021e-04 - val_loss: 6.9987e-05\n",
            "Epoch 18/30\n",
            " - 4s - loss: 7.0667e-04 - val_loss: 9.4966e-05\n",
            "Epoch 19/30\n",
            " - 4s - loss: 7.0563e-04 - val_loss: 5.6922e-05\n",
            "Epoch 20/30\n",
            " - 4s - loss: 6.9747e-04 - val_loss: 5.2500e-05\n",
            "Epoch 21/30\n",
            " - 3s - loss: 6.8655e-04 - val_loss: 8.6080e-05\n",
            "Epoch 22/30\n",
            " - 4s - loss: 6.7869e-04 - val_loss: 6.7673e-05\n",
            "Epoch 23/30\n",
            " - 4s - loss: 6.6772e-04 - val_loss: 7.9342e-05\n",
            "Epoch 24/30\n",
            " - 4s - loss: 6.6435e-04 - val_loss: 5.4173e-05\n",
            "Epoch 25/30\n",
            " - 4s - loss: 6.5909e-04 - val_loss: 7.6520e-05\n",
            "Epoch 26/30\n",
            " - 4s - loss: 6.5687e-04 - val_loss: 7.1698e-05\n",
            "Epoch 27/30\n",
            " - 3s - loss: 6.4741e-04 - val_loss: 6.5640e-05\n",
            "Epoch 28/30\n",
            " - 4s - loss: 6.5099e-04 - val_loss: 4.4358e-05\n",
            "Epoch 29/30\n",
            " - 4s - loss: 6.4224e-04 - val_loss: 5.5703e-05\n",
            "Epoch 30/30\n",
            " - 4s - loss: 6.3667e-04 - val_loss: 5.4801e-05\n"
          ],
          "name": "stdout"
        },
        {
          "output_type": "execute_result",
          "data": {
            "text/plain": [
              "<keras.callbacks.History at 0x7f31c2a72ef0>"
            ]
          },
          "metadata": {
            "tags": []
          },
          "execution_count": 9
        }
      ]
    },
    {
      "cell_type": "code",
      "metadata": {
        "id": "YP5vHDEHdgWD",
        "colab_type": "code",
        "colab": {
          "base_uri": "https://localhost:8080/",
          "height": 34
        },
        "outputId": "a49dc9ec-20a8-4769-fb3e-15b4dccf7bfd"
      },
      "source": [
        "pred_y = model.predict(test_X)\n",
        "pred_bboxes = pred_y * img_size\n",
        "pred_bboxes = pred_bboxes.reshape(len(pred_bboxes), num_objects, -1)\n",
        "pred_bboxes.shape"
      ],
      "execution_count": 11,
      "outputs": [
        {
          "output_type": "execute_result",
          "data": {
            "text/plain": [
              "(10000, 1, 4)"
            ]
          },
          "metadata": {
            "tags": []
          },
          "execution_count": 11
        }
      ]
    },
    {
      "cell_type": "code",
      "metadata": {
        "id": "AlFFm9tufcM5",
        "colab_type": "code",
        "colab": {}
      },
      "source": [
        "\n",
        "def IOU(bbox1, bbox2):\n",
        "    '''Calculate overlap between two bounding boxes [x, y, w, h] as the area of intersection over the area of unity'''\n",
        "    x1, y1, w1, h1 = bbox1[0], bbox1[1], bbox1[2], bbox1[3]\n",
        "    x2, y2, w2, h2 = bbox2[0], bbox2[1], bbox2[2], bbox2[3]\n",
        "\n",
        "    w_I = min(x1 + w1, x2 + w2) - max(x1, x2)\n",
        "    h_I = min(y1 + h1, y2 + h2) - max(y1, y2)\n",
        "    if w_I <= 0 or h_I <= 0:  # no overlap\n",
        "        return 0.\n",
        "    I = w_I * h_I\n",
        "\n",
        "    U = w1 * h1 + w2 * h2 - I\n",
        "\n",
        "    return I / U"
      ],
      "execution_count": 0,
      "outputs": []
    },
    {
      "cell_type": "code",
      "metadata": {
        "id": "P0_Hmarpflf8",
        "colab_type": "code",
        "colab": {
          "base_uri": "https://localhost:8080/",
          "height": 197
        },
        "outputId": "4e380465-53df-4bb2-f224-6c40a48d1ee1"
      },
      "source": [
        "plt.figure(figsize=(12, 3))\n",
        "\n",
        "for i_subplot in range(1, 5):\n",
        "    plt.subplot(1, 4, i_subplot)\n",
        "    i = np.random.randint(len(test_imgs))\n",
        "    plt.imshow(test_imgs[i].T, cmap='Greys', interpolation='none', origin='lower', extent=[0, img_size, 0, img_size])\n",
        "    \n",
        "    for pred_bbox, exp_bbox in zip(pred_bboxes[i], test_bboxes[i]):\n",
        "        plt.gca().add_patch(matplotlib.patches.Rectangle((pred_bbox[0], pred_bbox[1]), pred_bbox[2], pred_bbox[3], ec='r', fc='none'))\n",
        "        plt.annotate('IOU: {:.2f}'.format(IOU(pred_bbox, exp_bbox)), (pred_bbox[0], pred_bbox[1]+pred_bbox[3]+0.2), color='r')\n",
        "        "
      ],
      "execution_count": 13,
      "outputs": [
        {
          "output_type": "display_data",
          "data": {
            "image/png": "[encoded data removed]",
            "text/plain": [
              "<Figure size 864x216 with 4 Axes>"
            ]
          },
          "metadata": {
            "tags": []
          }
        }
      ]
    },
    {
      "cell_type": "code",
      "metadata": {
        "id": "4fJ__B_if5ob",
        "colab_type": "code",
        "colab": {
          "base_uri": "https://localhost:8080/",
          "height": 34
        },
        "outputId": "75f6da31-debc-4aa9-c49d-a1ff5fa794d1"
      },
      "source": [
        "summed_IOU = 0.\n",
        "for pred_bbox, test_bbox in zip(pred_bboxes.reshape(-1, 4), test_bboxes.reshape(-1, 4)):\n",
        "    summed_IOU += IOU(pred_bbox, test_bbox)\n",
        "mean_IOU = summed_IOU / len(pred_bboxes)\n",
        "mean_IOU"
      ],
      "execution_count": 14,
      "outputs": [
        {
          "output_type": "execute_result",
          "data": {
            "text/plain": [
              "0.8804762557078366"
            ]
          },
          "metadata": {
            "tags": []
          },
          "execution_count": 14
        }
      ]
    },
    {
      "cell_type": "code",
      "metadata": {
        "id": "Eco4hlVOf8jT",
        "colab_type": "code",
        "colab": {}
      },
      "source": [
        "#detecting two objects/rectangkes"
      ],
      "execution_count": 0,
      "outputs": []
    }
  ]
}